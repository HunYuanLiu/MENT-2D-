{
 "cells": [
  {
   "cell_type": "markdown",
   "id": "91071325",
   "metadata": {},
   "source": [
    "### 这是一个自定义的函数包，包含从一维到二维的重构可能需要的python函数\n",
    "### This is a custom function package.Includes Python functions that may be needed for reconstruction from one-dimensional to two-dimensional."
   ]
  },
  {
   "cell_type": "code",
   "execution_count": null,
   "id": "f99bea25",
   "metadata": {},
   "outputs": [],
   "source": [
    "import numpy as np\n",
    "import matplotlib.pyplot as plt\n",
    "import math\n",
    "import random\n",
    "import sys"
   ]
  },
  {
   "cell_type": "markdown",
   "id": "cfe7faa8",
   "metadata": {},
   "source": [
    "### rotation_matrix_2d（theta）：\n",
    "### 这个函数可以定义一个旋转映射，输入参数theta；该矩阵使二维函数映射到比原坐标系的逆时针旋转theta角度的新坐标系\n",
    "### This function defines a rotation mapping with an input parameter theta. The matrix associated with this function maps a two-dimensional function to a new coordinate system that is rotated counterclockwise by an angle of theta compared to the original coordinate system."
   ]
  },
  {
   "cell_type": "code",
   "execution_count": null,
   "id": "48fc07be",
   "metadata": {},
   "outputs": [],
   "source": [
    "def rotation_matrix_2d(theta):\n",
    "    \"\"\"\n",
    "    定义一个二维旋转矩阵\n",
    "    \"\"\"\n",
    "    cos_theta = np.cos(theta)\n",
    "    sin_theta = np.sin(theta)\n",
    "    # 定义旋转矩阵\n",
    "    rotation_matrix = np.array([[cos_theta , sin_theta],\n",
    "                                [-sin_theta, cos_theta]])\n",
    "    return rotation_matrix"
   ]
  },
  {
   "cell_type": "markdown",
   "id": "f536e412",
   "metadata": {},
   "source": [
    "### constant_1d_function(u,h)：\n",
    "### 这个函数对定义在网格中的一维函数h做一阶线性近似处理，两个输入参数分别是坐标u，一维函数h，返回h在u点的值\n",
    "### This function performs a first-order linear approximation on a one-dimensional function h defined on a grid. It takes two input parameters, the coordinate u and the one-dimensional function h, and returns the value of h at the point u"
   ]
  },
  {
   "cell_type": "code",
   "execution_count": null,
   "id": "fc54eab9",
   "metadata": {},
   "outputs": [],
   "source": [
    "def constant_1d_function(u,h):\n",
    "    global V\n",
    "    global n_points\n",
    "    global deltaV\n",
    "    index_u=math.floor(((u +V/2)/deltaV))\n",
    "    coordinate_index=(-V/2+deltaV/2)+index_u*deltaV\n",
    "    O_1=0\n",
    "    O_2=0\n",
    "    if (u<coordinate_index):\n",
    "        index_near=index_u-1\n",
    "    if (u>coordinate_index):\n",
    "        index_near=index_u+1\n",
    "    if (u==coordinate_index):\n",
    "        index_near=index_u\n",
    "    if (0<=index_u<n_points):\n",
    "        O_1=h[index_u]\n",
    "    if (0<=index_near<n_points):\n",
    "        O_2=h[index_near]\n",
    "    \n",
    "    L=abs(u-coordinate_index)\n",
    "    value=(O_2-O_1)*(L/deltaV)+O_1\n",
    "    return value\n",
    "    "
   ]
  },
  {
   "cell_type": "markdown",
   "id": "5aec88ff",
   "metadata": {},
   "source": [
    "### rotate(u_n,A,h_N):\n",
    "### 这是一个坐标变化的函数，用于把在第N个坐标系的横轴上的一维函数映射到到第n个坐标系的纵轴上，在做这个映射时认为第n个坐标系的横轴坐标为常数u_n；\n",
    "### 其中3个输入参数分别是：u_n第n个坐标系的横轴坐标，A是第n个坐标系到第N个坐标系的映射矩阵，h_N是第N个坐标系的横轴上的一维函数\n",
    "### This is a coordinate transformation function that maps a one-dimensional function on the horizontal axis of the Nth coordinate system to the vertical axis of the nth coordinate system. During this mapping, the horizontal axis coordinate of the nth coordinate system is considered as a constant u_n.\n",
    "### There are three input parameters:\n",
    "### u_n: The horizontal axis coordinate of the nth coordinate system.\n",
    "### A: The mapping matrix from the nth coordinate system to the Nth coordinate system.\n",
    "### h_N: The one-dimensional function on the horizontal axis of the Nth coordinate system."
   ]
  },
  {
   "cell_type": "code",
   "execution_count": null,
   "id": "fa518384",
   "metadata": {},
   "outputs": [],
   "source": [
    "def rotate(u_n,A,h_N):\n",
    "    global V\n",
    "    global n_points\n",
    "    global deltaV\n",
    "    matrix=np.zeros(n_points)\n",
    "    for index_v in range(n_points):\n",
    "        v_n=(-V/2+deltaV/2)+index_v*deltaV\n",
    "        Target=[u_n,v_n]\n",
    "        u_N=np.dot(A[0],Target)\n",
    "        matrix[index_v]=constant_1d_function(u_N, h_N)\n",
    "    return matrix"
   ]
  },
  {
   "cell_type": "markdown",
   "id": "76cca420",
   "metadata": {},
   "source": [
    "### Line(function,direction)：\n",
    "### 对二维函数function积分，我习惯认为direction为0时是对横轴积分，direction为1时是对纵轴积分\n",
    "### When integrating the two-dimensional function 'function', I have the convention that setting 'direction' to 0 represents integrating along the horizontal axis, and setting 'direction' to 1 represents integrating along the vertical axis."
   ]
  },
  {
   "cell_type": "code",
   "execution_count": null,
   "id": "1d21c25b",
   "metadata": {},
   "outputs": [],
   "source": [
    "def Line(function,direction):\n",
    "    global n_points\n",
    "    if (direction==0):\n",
    "        integral=np.sum(function,axis=0)\n",
    "    \n",
    "    if (direction==1):\n",
    "        integral=np.sum(function,axis=1)\n",
    "    \n",
    "\n",
    "\n",
    "    return integral\n"
   ]
  },
  {
   "cell_type": "markdown",
   "id": "40427eef",
   "metadata": {},
   "source": [
    "### Transmit_2d(matrix,rho)：\n",
    "### 使二维函数rho通过传输矩阵matrix，返回新的二维函数\n",
    "### Transform the two-dimensional function rho using the transfer matrix matrix to obtain a new two-dimensional function."
   ]
  },
  {
   "cell_type": "code",
   "execution_count": null,
   "id": "fea31539",
   "metadata": {},
   "outputs": [],
   "source": [
    "def Transmit_2d(matrix,rho):\n",
    "    global V\n",
    "    global n_points\n",
    "    global deltaV\n",
    "    new_rho=np.zeros((n_points,n_points))\n",
    "    matrix=np.linalg.inv(matrix)\n",
    "    for index_u in range(n_points):\n",
    "        for index_v in range(n_points):\n",
    "            u=-V/2+deltaV/2+index_u*deltaV\n",
    "            v=-V/2+deltaV/2+index_v*deltaV\n",
    "            Target=[u,v]\n",
    "            Source=np.dot(matrix,Target)\n",
    "            x=Source[0]\n",
    "            y=Source[1]\n",
    "            new_rho[index_u][index_v]=constant_function(x, y, rho)\n",
    "    return new_rho"
   ]
  },
  {
   "cell_type": "markdown",
   "id": "48d87e30",
   "metadata": {},
   "source": [
    "### Solution_2d():调用这个函数用已有的h函数计算二维分布\n",
    "### Call this function to calculate a two-dimensional distribution using an existing function h."
   ]
  },
  {
   "cell_type": "code",
   "execution_count": null,
   "id": "c965f792",
   "metadata": {},
   "outputs": [],
   "source": [
    "def Solution_2d():\n",
    "    #用收敛的h函数计算二维分布\n",
    "    global H\n",
    "    rho_solution=np.ones(shape=(n_points, n_points))\n",
    "    for index_x in range(n_points):\n",
    "        for index_y in range(n_points):\n",
    "            x=(-V/2+deltaV/2)+index_x*(deltaV)\n",
    "            y=(-V/2+deltaV/2)+index_y*(deltaV)\n",
    "            for n in range(Number_constraints):\n",
    "                    u=A[n][0][0]*x+A[n][0][1]*y                   \n",
    "                    rho_solution[index_x][index_y]=rho_solution[index_x][index_y]*constant_1d_function(u,H[n])            \n",
    "    rho_solution=rho_solution/np.sum(rho_solution)  #归一化\n",
    "    return rho_solution"
   ]
  },
  {
   "cell_type": "markdown",
   "id": "5cddfc0a",
   "metadata": {},
   "source": [
    "### Difference_2d()：\n",
    "### 使用当前的h函数计算一个二维分布，对这个二维分布在所有约束条件对应的方向投影，计算投影与约束条件的差值的绝对值的平均值\n",
    "### Compute a two-dimensional distribution using the current h function, project this distribution onto all directions corresponding to the constraint conditions, and calculate the average absolute difference between the projection and the constraint conditions."
   ]
  },
  {
   "cell_type": "code",
   "execution_count": null,
   "id": "2cf88119",
   "metadata": {},
   "outputs": [],
   "source": [
    "def Difference_2d():\n",
    "    global Number_constraints\n",
    "    global H\n",
    "    global A\n",
    "    global V\n",
    "    global deltaV\n",
    "    global G\n",
    "    global entropy\n",
    "    global Transmit_tem\n",
    "    tem_solution=Solution_2d()\n",
    "    Transmit_tem={}\n",
    "    Projection={}\n",
    "    difference=0\n",
    "    for i in range(Number_constraints): \n",
    "        Transmit_tem[i]=Transmit_2d(A[i], tem_solution)\n",
    "        Projection[i]=Line(Transmit_tem[i],1)\n",
    "        matrixA = Projection[i]\n",
    "        matrixB = G[i]\n",
    "        matrixA = matrixA / np.sum(matrixA)\n",
    "        matrixB = matrixB / np.sum(matrixB)\n",
    "        matrix_difference=np.abs(matrixA-matrixB)\n",
    "        difference=difference+np.sum(matrix_difference)   \n",
    "    difference=difference/(2*Number_constraints)\n",
    "    print(\"differ=\",difference)\n",
    "    return difference\n",
    "    "
   ]
  },
  {
   "cell_type": "markdown",
   "id": "2686681c",
   "metadata": {},
   "source": [
    "### 调用Two_to_one_dimensional（）函数获得重构结果; 第一个输入的参数是约束条件G，它是所有约束条件的集合，每个约束条件都是一维的曲线；第二个输入的参数是约束条件的方向A，A[i]对应G[i]的方向，A[i]是2乘2的矩阵，表述从[x,y]方向到G[i]所在的方向的映射，G[i]是二维函数通过映射A[i]后在横轴上的投影；计算出来的结果是归一化的；每轮迭代完成后都重构一个二维图像，在所有A的方向对这个二维图像积分，统计这些积分与约束条件的差值的平均值，记为differ;最终重构的结果保存在\"Rho_solution.npy\"\n",
    "### To obtain the reconstruction result, you can call the `Two_to_one_dimensional()` function. The function takes two input parameters:\n",
    "### 1. The first parameter is the set of constraint conditions, `G`. Each constraint condition is a one-dimensional curve.\n",
    "### 2. The second parameter is the direction of the constraint conditions, `A`. `A[i]` corresponds to the direction of `G[i]`. `A[i]` is a 2x2 matrix that represents the mapping from the `[x, y]` direction to the direction of `G[i]`.`G[i]` is the projection of the two-dimensional function after mapping `A[i]` onto the horizontal axis.\n",
    "### The computed results are normalized. After each iteration, a two-dimensional image is reconstructed. For this image, we integrate it over all directions of A and calculate the average difference between these integrals and the constraint conditions. This average difference is denoted as \"differ\". \n",
    "### Save the reconstruction result in 'Rho_solution.npy'. "
   ]
  },
  {
   "cell_type": "code",
   "execution_count": null,
   "id": "e0d0761e",
   "metadata": {},
   "outputs": [],
   "source": [
    "def Two_to_one_dimensional(G,A):\n",
    "    global V\n",
    "    global n_points\n",
    "    global deltaV\n",
    "    global Number_constraints\n",
    "    global H\n",
    "    \n",
    "    #确认不同坐标系之间的关系\n",
    "    Ajks = np.zeros((Number_constraints,Number_constraints,2,2))   \n",
    "    for j in range(Number_constraints):\n",
    "        for k in range(Number_constraints):\n",
    "            Ajks[j][k]=np.dot(A[j],np.linalg.inv(A[k]))\n",
    "           \n",
    "\n",
    "    #为中间过程的h函数声明的储存空间\n",
    "    H={}\n",
    "    for i in range(Number_constraints):\n",
    "        H[i]=np.ones((n_points))\n",
    "        H[i]=H[i]/np.sum(H[i])\n",
    "    \n",
    "    #对h函数做迭代   \n",
    "    H_iterative=np.ones(shape=(999, Number_constraints, n_points))\n",
    "    Differ=[]\n",
    "    Differ.append(Difference_2d())\n",
    "    for m in range(999):\n",
    "        for n in range(Number_constraints):\n",
    "            print(f\"进行到第{m+1}轮迭代，正在计算第{n+1}个方向的h函数\")           \n",
    "            for Q in range(n_points):\n",
    "                u_n=(-V/2+deltaV/2)+Q*(deltaV)\n",
    "                Multiply=np.ones(n_points)\n",
    "                #积分\n",
    "                for N in range(Number_constraints):\n",
    "                    if n != N:\n",
    "                        Multiply=np.multiply(rotate(u_n,Ajks[N][n],H[N],n),Multiply)                                                                            \n",
    "                integral=np.sum(Multiply)\n",
    "                \n",
    "                if (G[n][Q]==0):\n",
    "                    H[n][Q]=0\n",
    "                if (G[n][Q] != 0):\n",
    "                    if(integral==0):\n",
    "                        print(f\"在计算第{m+1}轮迭代，第{n+1}个方向的h函数时出现奇点！！！！！\")                                                                                                                          \n",
    "                        print(f\"奇点的位置：{u_n}\")\n",
    "                        for N in range(Number_constraints):\n",
    "                            if n != N:\n",
    "                                plt.plot(rotate(u_n,Ajks[N][n],H[N],n))                            \n",
    "                                plt.show()                    \n",
    "                        sys.exit()\n",
    "                    H[n][Q]=G[n][Q]/integral\n",
    "                if (H[n][Q]>1e+308):\n",
    "                     print(H[n][Q],G[n][Q],integral)\n",
    "                     print(\"爆炸啦！！！\")\n",
    "                     print(\"取与约束条件的差值最小的点作为迭代的结果\")\n",
    "                     anchor=np.argmin(Differ)\n",
    "                     for i in range(Number_constraints):\n",
    "                         H[i]=H_iterative[anchor-1][i]\n",
    "                     \n",
    "                     \n",
    "                     x = np.arange(0,m+1)\n",
    "                     plt.plot(x,Differ)\n",
    "                     plt.xticks(x)\n",
    "                     plt.xlabel(\"iterative\")\n",
    "                     plt.ylabel(\"Differ\")\n",
    "                     plt.show()\n",
    "                     rho_solution=Solution_2d()\n",
    "                     print(\"计算结果已保存在Rho_solution.npy\")\n",
    "                     file_path = \"Rho_solution.npy\"\n",
    "                     np.save(file_path,rho_solution)\n",
    "                     Draw(rho_solution, \"x\", \"y\")\n",
    "                     return\n",
    "                     sys.exit()\n",
    "            H[n]=H[n]/np.sum(H[n])\n",
    "            H_iterative[m][n]=H[n]\n",
    "        file_path=\"H_iterative.npy\"       \n",
    "        np.save(file_path,H_iterative)\n",
    "        Differ.append(Difference_2d())\n",
    "        if(m>0 and np.allclose(H_iterative[m], H_iterative[m-1], rtol=0.1)):                      \n",
    "            print(f\"进行到第{m+1}轮迭代时收敛了\")            \n",
    "            x = np.arange(0,m+2)\n",
    "            plt.plot(x,Differ)\n",
    "            plt.xticks(x)\n",
    "            plt.xlabel(\"iterative\")\n",
    "            plt.ylabel(\"Differ\")\n",
    "            plt.show()\n",
    "            rho_solution=Solution_2d()\n",
    "            print(\"计算结果已保存在Rho_solution.npy\")\n",
    "            file_path = \"Rho_solution.npy\"\n",
    "            np.save(file_path,rho_solution)\n",
    "            Draw(rho_solution, \"x\", \"y\")\n",
    "            return\n",
    "        if (m>0 and Differ[m]<=Differ[m+1] and Differ[m]<=Differ[m-1]):\n",
    "            print(f\"在第{m}轮迭代获得了与约束条件的差值的极小值点\")            \n",
    "            x = np.arange(0,m+2)\n",
    "            plt.plot(x,Differ)\n",
    "            plt.xticks(x)\n",
    "            plt.xlabel(\"iterative\")\n",
    "            plt.ylabel(\"Differ\")\n",
    "            plt.show()\n",
    "            for i in range(Number_constraints):\n",
    "                H[i]=H_iterative[m-1][i]\n",
    "            rho_solution=Solution_2d()\n",
    "            print(\"计算结果已保存在Rho_solution.npy\")\n",
    "            file_path = \"Rho_solution.npy\"\n",
    "            np.save(file_path,rho_solution)\n",
    "            Draw(rho_solution, \"x\", \"y\")\n",
    "            return"
   ]
  }
 ],
 "metadata": {
  "kernelspec": {
   "display_name": "Python 3 (ipykernel)",
   "language": "python",
   "name": "python3"
  },
  "language_info": {
   "codemirror_mode": {
    "name": "ipython",
    "version": 3
   },
   "file_extension": ".py",
   "mimetype": "text/x-python",
   "name": "python",
   "nbconvert_exporter": "python",
   "pygments_lexer": "ipython3",
   "version": "3.10.9"
  }
 },
 "nbformat": 4,
 "nbformat_minor": 5
}
